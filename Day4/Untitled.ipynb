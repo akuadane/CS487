{
 "cells": [
  {
   "cell_type": "code",
   "execution_count": 1,
   "metadata": {},
   "outputs": [
    {
     "name": "stdout",
     "output_type": "stream",
     "text": [
      "12 12 False\n"
     ]
    }
   ],
   "source": [
    "class MyQueue:\n",
    "\n",
    "    def __init__(self):\n",
    "        \"\"\"\n",
    "        Initialize your data structure here.\n",
    "        \"\"\"\n",
    "        self.stack=[]\n",
    "        \n",
    "\n",
    "    def push(self, x) :\n",
    "        \"\"\"\n",
    "        Push element x to the back of queue.\n",
    "        \"\"\"\n",
    "        tempStack=[]\n",
    "        while len(self.stack)!=0:\n",
    "            tempStack.append(self.stack.pop())\n",
    "        \n",
    "        self.stack.append(x)\n",
    "        \n",
    "        while len(tempStack)!=0:\n",
    "            self.stack.append(tempStack.pop())\n",
    "            \n",
    "\n",
    "    def pop(self) :\n",
    "        \"\"\"\n",
    "        Removes the element from in front of queue and returns that element.\n",
    "        \"\"\"\n",
    "        return self.stack.pop()\n",
    "        \n",
    "\n",
    "    def peek(self):\n",
    "        \"\"\"\n",
    "        Get the front element.\n",
    "        \"\"\"\n",
    "        if len(self.stack)==0:\n",
    "            return None\n",
    "        return self.stack[len(self.stack)-1]\n",
    "        \n",
    "\n",
    "    def empty(self):\n",
    "        \"\"\"\n",
    "        Returns whether the queue is empty.\n",
    "        \"\"\"\n",
    "        return not len(self.stack)>0\n",
    "        \n",
    "obj = MyQueue()\n",
    "obj.push(12)\n",
    "obj.push(11)\n",
    "obj.push(13)\n",
    "param_2 = obj.peek()\n",
    "param_3 = obj.peek()\n",
    "obj.push(12)\n",
    "param_4 = obj.empty()\n",
    "\n",
    "print(param_2,param_3,param_4)"
   ]
  },
  {
   "cell_type": "code",
   "execution_count": 6,
   "metadata": {},
   "outputs": [
    {
     "name": "stdout",
     "output_type": "stream",
     "text": [
      "12 12 False\n"
     ]
    }
   ],
   "source": [
    "class MyQueue:\n",
    "\n",
    "    def __init__(self):\n",
    "        \"\"\"\n",
    "        Initialize your data structure here.\n",
    "        \"\"\"\n",
    "        self.stack=[]\n",
    "        self.tempStack=[]\n",
    "        self.canPush=True\n",
    "        self.canPop=False\n",
    "        \n",
    "\n",
    "    def push(self, x) :\n",
    "        \"\"\"\n",
    "        Push element x to the back of queue.\n",
    "        \"\"\"\n",
    "        if self.canPush:\n",
    "            self.stack.append(x)\n",
    "        else:\n",
    "            while len(self.temStack)!=0:\n",
    "                self.stack.append(self.tempStack.pop())\n",
    "            self.stack.append(x)\n",
    "            \n",
    "            self.canPush=True\n",
    "            self.canPop=False\n",
    "         \n",
    "            \n",
    "\n",
    "    def pop(self) :\n",
    "        \"\"\"\n",
    "        Removes the element from in front of queue and returns that element.\n",
    "        \"\"\"\n",
    "        if self.canPop:\n",
    "            return self.tempStack.pop()\n",
    "        \n",
    "        while len(self.stack)!=0:\n",
    "            self.tempStack.append(self.stack.pop())\n",
    "            \n",
    "        self.canPop=True\n",
    "        self.canPush=False\n",
    "        \n",
    "        return self.tempStack.pop()\n",
    "        \n",
    "\n",
    "    def peek(self):\n",
    "        \"\"\"\n",
    "        Get the front element.\n",
    "        \"\"\"\n",
    "        if len(self.stack)==0 and len(self.tempStack)==0:\n",
    "            return None\n",
    "        \n",
    "        if self.canPush:\n",
    "            return self.stack[0]\n",
    "        return self.tempStack[len(self.stack)-1]\n",
    "        \n",
    "\n",
    "    def empty(self):\n",
    "        \"\"\"\n",
    "        Returns whether the queue is empty.\n",
    "        \"\"\"\n",
    "        return not (len(self.stack)>0 or len(self.tempStack)>0)\n",
    "\n",
    "    \n",
    "obj = MyQueue()\n",
    "obj.push(12)\n",
    "obj.push(11)\n",
    "obj.push(13)\n",
    "param_2 = obj.peek()\n",
    "param_3 = obj.peek()\n",
    "obj.push(12)\n",
    "param_4 = obj.empty()\n",
    "\n",
    "print(param_2,param_3,param_4)"
   ]
  },
  {
   "cell_type": "code",
   "execution_count": 14,
   "metadata": {},
   "outputs": [
    {
     "name": "stdout",
     "output_type": "stream",
     "text": [
      "14 13 False\n"
     ]
    }
   ],
   "source": [
    "class MyStack:\n",
    "\n",
    "    def __init__(self):\n",
    "        \"\"\"\n",
    "        Initialize your data structure here.\n",
    "        \"\"\"\n",
    "        self.queue=[]\n",
    "        \n",
    "\n",
    "    def push(self, x: int) -> None:\n",
    "        \"\"\"\n",
    "        Push element x onto stack.\n",
    "        \"\"\"\n",
    "        self.queue.append(x)\n",
    "        \n",
    "        \n",
    "        \n",
    "\n",
    "    def pop(self) -> int:\n",
    "        \"\"\"\n",
    "        Removes the element on top of the stack and returns that element.\n",
    "        \"\"\"\n",
    "        tempQueue=[]\n",
    "        \n",
    "        while len(self.queue)!=1:\n",
    "            tempQueue.append(self.queue.pop(0))\n",
    "        ans=self.queue.pop(0)\n",
    "        \n",
    "        while len(tempQueue)!=0:\n",
    "            self.queue.append(tempQueue.pop(0))\n",
    "        \n",
    "        return ans\n",
    "        \n",
    "\n",
    "    def top(self) -> int:\n",
    "        \"\"\"\n",
    "        Get the top element.\n",
    "        \"\"\"\n",
    "        if len(self.queue)==0:\n",
    "            return None\n",
    "        return self.queue[len(self.queue)-1]\n",
    "\n",
    "    def empty(self) -> bool:\n",
    "        \"\"\"\n",
    "        Returns whether the stack is empty.\n",
    "        \"\"\"\n",
    "        return not len(self.queue)>0\n",
    "obj = MyStack()\n",
    "obj.push(12)\n",
    "obj.push(13)\n",
    "obj.push(14)\n",
    "param_2 = obj.pop()\n",
    "param_3 = obj.top()\n",
    "param_4 = obj.empty()\n",
    "print(param_2,param_3,param_4)"
   ]
  },
  {
   "cell_type": "code",
   "execution_count": 2,
   "metadata": {},
   "outputs": [
    {
     "data": {
      "text/plain": [
       "[0, 0, 1, 1, 2, 2]"
      ]
     },
     "execution_count": 2,
     "metadata": {},
     "output_type": "execute_result"
    }
   ],
   "source": [
    "def sortInPlace(nums):\n",
    "    \n",
    "    for i in range(len(nums)):\n",
    "        minItem=i\n",
    "        \n",
    "        for j in range(i+1,len(nums)):\n",
    "            if nums[j]<nums[minItem]:\n",
    "                minItem=j\n",
    "            \n",
    "        if minItem!=i:\n",
    "            temp=nums[minItem]\n",
    "            nums[minItem]=nums[i]\n",
    "            nums[i]=temp\n",
    "    return nums\n",
    "sortInPlace([2,0,2,1,1,0])"
   ]
  },
  {
   "cell_type": "code",
   "execution_count": 20,
   "metadata": {},
   "outputs": [
    {
     "name": "stdout",
     "output_type": "stream",
     "text": [
      "{4.242640687119285: [[3, 3]], 5.0990195135927845: [[5, -1]], 4.47213595499958: [[-2, 4]]}\n"
     ]
    },
    {
     "data": {
      "text/plain": [
       "[[-2, 4]]"
      ]
     },
     "execution_count": 20,
     "metadata": {},
     "output_type": "execute_result"
    }
   ],
   "source": [
    "def nearest(points,k):\n",
    "    mapped={}\n",
    "    distances=[]\n",
    "    for i in points:\n",
    "        distance= (i[0]**2+i[1]**2)**(1/2)\n",
    "        \n",
    "        if distance not in mapped:\n",
    "            mapped[distance]=[]\n",
    "        distances.append(distance)\n",
    "        mapped[distance].append(i)\n",
    "    \n",
    "    # now sort distances\n",
    "    \n",
    "    for i in range(len(distances)):\n",
    "        minItem=i\n",
    "        \n",
    "        for j in range(i+1,len(distances)):\n",
    "            if distances[j]<distances[minItem]:\n",
    "                minItem=j\n",
    "            \n",
    "        if minItem!=i:\n",
    "            temp=distances[minItem]\n",
    "            distances[minItem]=distances[i]\n",
    "            distances[i]=temp\n",
    "    print(mapped)\n",
    "    return mapped[distances[k-1]]\n",
    "nearest([[3,3],[5,-1],[-2,4]],2)"
   ]
  },
  {
   "cell_type": "code",
   "execution_count": 21,
   "metadata": {},
   "outputs": [
    {
     "data": {
      "text/plain": [
       "[[-2, 2]]"
      ]
     },
     "execution_count": 21,
     "metadata": {},
     "output_type": "execute_result"
    }
   ],
   "source": [
    "def nearest2(points,k):\n",
    "    \n",
    "    \n",
    "    # now sort distances\n",
    "    \n",
    "    for i in range(len(points)):\n",
    "        minItem=i\n",
    "        distance=(points[i][0]**2+points[i][1]**2)**(1/2)\n",
    "        \n",
    "        for j in range(i+1,len(points)):\n",
    "            tempDistance=(points[j][0]**2+points[j][1]**2)**(1/2)\n",
    "            \n",
    "            if tempDistance<distance:\n",
    "                minItem=j\n",
    "                distance=tempDistance\n",
    "            \n",
    "        if minItem!=i:\n",
    "            temp=points[minItem]\n",
    "            points[minItem]=points[i]\n",
    "            points[i]=temp\n",
    "    \n",
    "    return points[:k]\n",
    "nearest2([[1,3],[-2,2]],1)"
   ]
  },
  {
   "cell_type": "code",
   "execution_count": null,
   "metadata": {},
   "outputs": [],
   "source": []
  }
 ],
 "metadata": {
  "kernelspec": {
   "display_name": "Python 3",
   "language": "python",
   "name": "python3"
  },
  "language_info": {
   "codemirror_mode": {
    "name": "ipython",
    "version": 3
   },
   "file_extension": ".py",
   "mimetype": "text/x-python",
   "name": "python",
   "nbconvert_exporter": "python",
   "pygments_lexer": "ipython3",
   "version": "3.7.3"
  }
 },
 "nbformat": 4,
 "nbformat_minor": 2
}
