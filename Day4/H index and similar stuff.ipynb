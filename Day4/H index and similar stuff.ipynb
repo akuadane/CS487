{
 "cells": [
  {
   "cell_type": "code",
   "execution_count": 13,
   "metadata": {},
   "outputs": [
    {
     "data": {
      "text/plain": [
       "7"
      ]
     },
     "execution_count": 13,
     "metadata": {},
     "output_type": "execute_result"
    }
   ],
   "source": [
    "def hIndex(citations):\n",
    "    hIndex=0\n",
    "    highestCitation=citations[0]\n",
    "    \n",
    "    for i in range(len(citations)):\n",
    "        citation=citations[i]\n",
    "        tempIndex=0\n",
    "        for j in range(i,len(citations)):\n",
    "            \n",
    "            if citations[j]>=citation and citations[j]>=highestCitation:\n",
    "                tempIndex+=1\n",
    "               \n",
    "        if tempIndex>hIndex:\n",
    "            hIndex=tempIndex\n",
    "            highestCitation=citations[i]\n",
    "    return hIndex\n",
    "hIndex([3,0,6,1,5,7,8,9,10])\n",
    "            \n",
    "        \n",
    "    "
   ]
  },
  {
   "cell_type": "code",
   "execution_count": 23,
   "metadata": {},
   "outputs": [
    {
     "name": "stdout",
     "output_type": "stream",
     "text": [
      "None None\n"
     ]
    }
   ],
   "source": [
    "class MinStack:\n",
    "\n",
    "    def __init__(self):\n",
    "        \"\"\"\n",
    "        initialize your data structure here.\n",
    "        \"\"\"\n",
    "        self.list=[]\n",
    "        self.minimum=float(\"infinity\")\n",
    "\n",
    "    def push(self, x: int) -> None:\n",
    "        self.list.append(x)\n",
    "        \n",
    "        if x<self.minimum:\n",
    "            self.minimum=x\n",
    " \n",
    "    def pop(self) -> None:\n",
    "        if len(self.list)==0:\n",
    "            return\n",
    "        \n",
    "        if self.list.pop() ==self.minimum:\n",
    "            self.minimum=float(\"infinity\")\n",
    "            tempList=[]\n",
    "            while len(self.list)!=0:\n",
    "                temp=self.list.pop()\n",
    "                if temp <self.minimum:\n",
    "                    self.minimum=temp\n",
    "                \n",
    "                \n",
    "                tempList.append(temp)\n",
    "            \n",
    "            \n",
    "            \n",
    "            while len(tempList)!=0:\n",
    "                self.list.append(tempList.pop())\n",
    "                    \n",
    "                \n",
    "        \n",
    "    def top(self) -> int:\n",
    "        if len(self.list)!=0:\n",
    "            return self.list[len(self.list)-1]\n",
    "\n",
    "    def getMin(self) -> int:\n",
    "        return  None if self.minimum==float(\"infinity\") else self.minimum\n",
    "        \n",
    "\n",
    "\n",
    "# Your MinStack object will be instantiated and called as such:\n",
    "# obj = MinStack()\n",
    "# obj.push(12)\n",
    "# obj.pop()\n",
    "# param_3 = obj.top()\n",
    "# param_4 = obj.getMin()\n",
    "# print(param_3,param_4)"
   ]
  },
  {
   "cell_type": "code",
   "execution_count": 14,
   "metadata": {},
   "outputs": [
    {
     "ename": "IndexError",
     "evalue": "pop from empty list",
     "output_type": "error",
     "traceback": [
      "\u001b[0;31m---------------------------------------------------------------------------\u001b[0m",
      "\u001b[0;31mIndexError\u001b[0m                                Traceback (most recent call last)",
      "\u001b[0;32m<ipython-input-14-b84752465647>\u001b[0m in \u001b[0;36m<module>\u001b[0;34m\u001b[0m\n\u001b[1;32m      1\u001b[0m \u001b[0ml\u001b[0m\u001b[0;34m=\u001b[0m\u001b[0;34m[\u001b[0m\u001b[0;36m1\u001b[0m\u001b[0;34m]\u001b[0m\u001b[0;34m\u001b[0m\u001b[0;34m\u001b[0m\u001b[0m\n\u001b[0;32m----> 2\u001b[0;31m \u001b[0mprint\u001b[0m\u001b[0;34m(\u001b[0m\u001b[0ml\u001b[0m\u001b[0;34m.\u001b[0m\u001b[0mpop\u001b[0m\u001b[0;34m(\u001b[0m\u001b[0;34m)\u001b[0m\u001b[0;34m,\u001b[0m\u001b[0ml\u001b[0m\u001b[0;34m.\u001b[0m\u001b[0mpop\u001b[0m\u001b[0;34m(\u001b[0m\u001b[0;34m)\u001b[0m\u001b[0;34m)\u001b[0m\u001b[0;34m\u001b[0m\u001b[0;34m\u001b[0m\u001b[0m\n\u001b[0m",
      "\u001b[0;31mIndexError\u001b[0m: pop from empty list"
     ]
    }
   ],
   "source": [
    "l=[1]\n",
    "print(l.pop(),l.pop())"
   ]
  },
  {
   "cell_type": "code",
   "execution_count": null,
   "metadata": {},
   "outputs": [],
   "source": []
  }
 ],
 "metadata": {
  "kernelspec": {
   "display_name": "Python 3",
   "language": "python",
   "name": "python3"
  },
  "language_info": {
   "codemirror_mode": {
    "name": "ipython",
    "version": 3
   },
   "file_extension": ".py",
   "mimetype": "text/x-python",
   "name": "python",
   "nbconvert_exporter": "python",
   "pygments_lexer": "ipython3",
   "version": "3.7.3"
  }
 },
 "nbformat": 4,
 "nbformat_minor": 2
}
