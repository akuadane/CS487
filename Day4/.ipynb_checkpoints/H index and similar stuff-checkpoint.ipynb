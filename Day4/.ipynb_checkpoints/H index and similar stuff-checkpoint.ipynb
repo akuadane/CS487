{
 "cells": [
  {
   "cell_type": "code",
   "execution_count": 10,
   "metadata": {},
   "outputs": [
    {
     "name": "stdout",
     "output_type": "stream",
     "text": [
      "1 3 3\n",
      "2 6 3\n",
      "3 5 3\n",
      "1 6 0\n",
      "2 5 0\n",
      "1 6 6\n",
      "1 5 1\n",
      "1 5 5\n"
     ]
    },
    {
     "data": {
      "text/plain": [
       "(3, 3)"
      ]
     },
     "execution_count": 10,
     "metadata": {},
     "output_type": "execute_result"
    }
   ],
   "source": [
    "def hIndex(citations):\n",
    "    hIndex=0\n",
    "    highestCitation=citations[0]\n",
    "    \n",
    "    for i in range(len(citations)):\n",
    "        citation=citations[i]\n",
    "        tempIndex=0\n",
    "        for j in range(i,len(citations)):\n",
    "            \n",
    "            if citations[j]>=citation and citations[j]>=highestCitation:\n",
    "                tempIndex+=1\n",
    "               \n",
    "        if tempIndex>hIndex:\n",
    "            hIndex=tempIndex\n",
    "            highestCitation=citations[i]\n",
    "    return hIndex\n",
    "hIndex([3,0,6,1,5])\n",
    "            \n",
    "        \n",
    "    "
   ]
  },
  {
   "cell_type": "code",
   "execution_count": null,
   "metadata": {},
   "outputs": [],
   "source": []
  }
 ],
 "metadata": {
  "kernelspec": {
   "display_name": "Python 3",
   "language": "python",
   "name": "python3"
  },
  "language_info": {
   "codemirror_mode": {
    "name": "ipython",
    "version": 3
   },
   "file_extension": ".py",
   "mimetype": "text/x-python",
   "name": "python",
   "nbconvert_exporter": "python",
   "pygments_lexer": "ipython3",
   "version": "3.7.3"
  }
 },
 "nbformat": 4,
 "nbformat_minor": 2
}
