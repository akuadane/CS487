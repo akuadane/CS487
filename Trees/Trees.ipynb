{
 "cells": [
  {
   "cell_type": "markdown",
   "metadata": {},
   "source": [
    "# The titles are in the format : Xy.Title  -  xy is the number of the question in leetcode"
   ]
  },
  {
   "cell_type": "markdown",
   "metadata": {},
   "source": [
    "# 938. Range Sum of BST\n",
    "\n",
    "Given the root node of a binary search tree, return the sum of values of all nodes with value between L and R (inclusive).\n",
    "\n",
    "The binary search tree is guaranteed to have unique values.\n",
    "\n",
    "Example 1:\n",
    "\n",
    "Input: root = [10,5,15,3,7,null,18], L = 7, R = 15\n",
    "Output: 32\n",
    "\n",
    "Example 2: \n",
    "Input: root = [10,5,15,3,7,13,18,1,null,6], L = 6, R = 10\n",
    "Output: 23\n",
    "\n"
   ]
  },
  {
   "cell_type": "code",
   "execution_count": 1,
   "metadata": {},
   "outputs": [],
   "source": [
    "# Definition for a binary tree node.\n",
    "class TreeNode:\n",
    "    def __init__(self, x):\n",
    "        self.val = x\n",
    "        self.left = None\n",
    "        self.right = None\n"
   ]
  },
  {
   "cell_type": "code",
   "execution_count": null,
   "metadata": {},
   "outputs": [],
   "source": [
    "def rangeSum(root,L,R):\n",
    "    \n",
    "    if root==None:\n",
    "        return 0\n",
    "    \n",
    "    answer=0\n",
    "    left=0\n",
    "    right=0\n",
    "    \n",
    "    if root.val >=L and root.val<=R:\n",
    "        answer=root.val\n",
    "    \n",
    "    if root.val>=L:\n",
    "        left=rangeSum(root.left,L,R)\n",
    "    if root.val<=R:\n",
    "        right=rangeSum(root.right,L,R)\n",
    "        \n",
    "    \n",
    "        \n",
    "    return left+ right+answer\n",
    "\n",
    "\n",
    "head=TreeNnode(10)\n",
    "second=TreeNode(5)\n",
    "    \n",
    "    \n",
    "        \n",
    "        "
   ]
  },
  {
   "cell_type": "markdown",
   "metadata": {},
   "source": [
    "# 617. Merge Two Binary Trees\n",
    "Given two binary trees and imagine that when you put one of them to cover the other, some nodes of the two trees are overlapped while the others are not.\n",
    "\n",
    "You need to merge them into a new binary tree. The merge rule is that if two nodes overlap, then sum node values up as the new value of the merged node. Otherwise, the NOT null node will be used as the node of new tree."
   ]
  },
  {
   "cell_type": "code",
   "execution_count": null,
   "metadata": {},
   "outputs": [],
   "source": [
    "def mergeTrees(t1,t2):\n",
    "\n",
    "    if t1==None and t2==None:\n",
    "        return None\n",
    "\n",
    "\n",
    "    if t1==None and t2!=None:\n",
    "        head= TreeNode(t2.val)\n",
    "        head.left=mergeTrees(t1,t2.left)\n",
    "        head.right=mergeTrees(t1,t2.right)\n",
    "\n",
    "    elif t1!=None and t2==None:\n",
    "        head= TreeNode(t1.val)\n",
    "        head.left=mergeTrees(t1.left,t2)\n",
    "        head.right=mergeTrees(t1.right,t2)\n",
    "\n",
    "    else:\n",
    "        head=TreeNode(t1.val+t2.val)\n",
    "        head.left=mergeTrees(t1.left,t2.left)\n",
    "        head.right=mergeTrees(t1.right,t2.right)\n",
    "\n",
    "\n",
    "\n",
    "\n",
    "    return head\n",
    "        \n",
    "        "
   ]
  },
  {
   "cell_type": "markdown",
   "metadata": {},
   "source": [
    "# 700. Search in a Binary Search Tree\n",
    "Given the root node of a binary search tree (BST) and a value. You need to find the node in the BST that the node's value equals the given value. Return the subtree rooted with that node. If such node doesn't exist, you should return NULL.\n",
    "\n"
   ]
  },
  {
   "cell_type": "code",
   "execution_count": null,
   "metadata": {},
   "outputs": [],
   "source": [
    " def searchBST(root, val):\n",
    "\n",
    "    if root==None:\n",
    "        return None\n",
    "\n",
    "    if root.val==val:\n",
    "        return root\n",
    "\n",
    "    elif val>root.val:\n",
    "        return searchBST(root.right,val)\n",
    "\n",
    "    elif val<root.val:\n",
    "        return searchBST(root.left,val)\n",
    "            "
   ]
  },
  {
   "cell_type": "markdown",
   "metadata": {},
   "source": [
    "# 100. Same Tree\n",
    "Given two binary trees, write a function to check if they are the same or not.\n",
    "\n",
    "Two binary trees are considered the same if they are structurally identical and the nodes have the same value."
   ]
  },
  {
   "cell_type": "code",
   "execution_count": null,
   "metadata": {},
   "outputs": [],
   "source": [
    "def isSameTree(self, p: TreeNode, q: TreeNode) -> bool:\n",
    "\n",
    "    if p==None and q==None:\n",
    "        return True\n",
    "\n",
    "\n",
    "    if p!=None and q!=None and p.val==q.val:  # checks if either p or q is None if so, returns False. and Also checks if q.val and p.val are equal, if not returns False\n",
    "\n",
    "        return isSameTree(p.left,q.left) and isSameTree(p.right,q.right)\n",
    "\n",
    "    return False"
   ]
  },
  {
   "cell_type": "markdown",
   "metadata": {},
   "source": [
    "# 235. Lowest Common Ancestor of a Binary Search Tree\n",
    "\n",
    "Given a binary search tree (BST), find the lowest common ancestor (LCA) of two given nodes in the BST.\n",
    "\n",
    "According to the definition of LCA on Wikipedia: “The lowest common ancestor is defined between two nodes p and q as the lowest node in T that has both p and q as descendants (where we allow a node to be a descendant of itself).”\n",
    "\n",
    "Given binary search tree:  root = [6,2,8,0,4,7,9,null,null,3,5]\n"
   ]
  },
  {
   "cell_type": "code",
   "execution_count": null,
   "metadata": {},
   "outputs": [],
   "source": [
    "def lowestCommonAncestor( root, p, q):\n",
    "        \n",
    "    if p.val==root.val or q.val==root.val or (p.val>=root.val and q.val<=root.val) or (p.val<=root.val and q.val>=root.val):\n",
    "\n",
    "        return root\n",
    "\n",
    "\n",
    "    if p.val>root.val:\n",
    "        return self.lowestCommonAncestor(root.right,p,q)\n",
    "\n",
    "    else:\n",
    "        return self.lowestCommonAncestor(root.left,p,q)\n",
    "\n",
    "        \n",
    "            \n",
    "        \n",
    "            \n",
    "        \n",
    "            \n",
    "        \n",
    "        "
   ]
  },
  {
   "cell_type": "code",
   "execution_count": null,
   "metadata": {},
   "outputs": [],
   "source": [
    "# harder LCA\n",
    "def lowestCommonAncestor( root, p, q):\n",
    "        \n",
    "        \n",
    "        if p.val==root.val or q.val==root.val or (p.val>=root.val and q.val<=root.val) or (p.val<=root.val and q.val>=root.val):\n",
    "            \n",
    "            return root\n",
    "        \n",
    "        \n",
    "        if p.val>root.val:\n",
    "            self.lowestCommonAncestor(root.right,p,q)\n",
    "            if root.val <=right.val:\n",
    "                return root\n",
    "            else:\n",
    "                return right\n",
    "        else:\n",
    "            left=self.lowestCommonAncestor(root.left,p,q)\n",
    "            if root.val<=left.val:\n",
    "                return root\n",
    "            else:\n",
    "                return left\n",
    "            \n",
    "        "
   ]
  },
  {
   "cell_type": "markdown",
   "metadata": {},
   "source": [
    "# 1008. Construct Binary Search Tree from Preorder Traversal\n",
    "Return the root node of a binary search tree that matches the given preorder traversal.\n",
    "\n",
    "(Recall that a binary search tree is a binary tree where for every node, any descendant of node.left has a value < node.val, and any descendant of node.right has a value > node.val.  Also recall that a preorder traversal displays the value of the node first, then traverses node.left, then traverses node.right.)\n",
    "\n",
    " "
   ]
  },
  {
   "cell_type": "code",
   "execution_count": 1,
   "metadata": {},
   "outputs": [],
   "source": [
    " def bstFromPreorder( preorder):\n",
    "        \n",
    "        if len(preorder)==0:\n",
    "            return None\n",
    "        \n",
    "        if len(preorder)==1:\n",
    "            return TreeNode(preorder[0])\n",
    "        \n",
    "        \n",
    "        \n",
    "        head=TreeNode(preorder[0])\n",
    "        \n",
    "        \n",
    "        counter=0\n",
    "        for i in preorder:\n",
    "            if i>preorder[0]:\n",
    "                break\n",
    "            counter+=1\n",
    "            \n",
    "        \n",
    "        \n",
    "       \n",
    "        head.left=bstFromPreorder(preorder[1:counter])\n",
    "            \n",
    "        \n",
    "        head.right=bstFromPreorder(preorder[counter:])\n",
    "            \n",
    "        \n",
    "        return head\n",
    "        \n",
    "        \n"
   ]
  },
  {
   "cell_type": "markdown",
   "metadata": {},
   "source": [
    "# 654. Maximum Binary Tree\n",
    "\n",
    "Given an integer array with no duplicates. A maximum tree building on this array is defined as follow:\n",
    "\n",
    "The root is the maximum number in the array.\n",
    "The left subtree is the maximum tree constructed from left part subarray divided by the maximum number.\n",
    "The right subtree is the maximum tree constructed from right part subarray divided by the maximum number.\n",
    "Construct the maximum tree by the given array and output the root node of this tree."
   ]
  },
  {
   "cell_type": "code",
   "execution_count": null,
   "metadata": {},
   "outputs": [],
   "source": [
    "def constructMaximumBinaryTree(nums):\n",
    "\n",
    "    if len(nums)==0:\n",
    "        return None\n",
    "    if len(nums)==1:\n",
    "        return TreeNode(nums[0])\n",
    "\n",
    "    indexOfMax=0\n",
    "\n",
    "\n",
    "\n",
    "    for i in range(len(nums)):\n",
    "        if nums[i] > nums[indexOfMax]:\n",
    "            indexOfMax=i\n",
    "\n",
    "    head=TreeNode(nums[indexOfMax])\n",
    "\n",
    "    head.left=constructMaximumBinaryTree(nums[:indexOfMax])\n",
    "    head.right=constructMaximumBinaryTree(nums[indexOfMax+1:])\n",
    "\n",
    "    return head\n"
   ]
  }
 ],
 "metadata": {
  "kernelspec": {
   "display_name": "Python 3",
   "language": "python",
   "name": "python3"
  },
  "language_info": {
   "codemirror_mode": {
    "name": "ipython",
    "version": 3
   },
   "file_extension": ".py",
   "mimetype": "text/x-python",
   "name": "python",
   "nbconvert_exporter": "python",
   "pygments_lexer": "ipython3",
   "version": "3.7.3"
  }
 },
 "nbformat": 4,
 "nbformat_minor": 2
}
