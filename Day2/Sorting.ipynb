{
 "cells": [
  {
   "cell_type": "code",
   "execution_count": 21,
   "metadata": {},
   "outputs": [
    {
     "data": {
      "text/plain": [
       "[1, 2, 4, 6]"
      ]
     },
     "execution_count": 21,
     "metadata": {},
     "output_type": "execute_result"
    }
   ],
   "source": [
    "def insertionSort(lst):\n",
    "    \n",
    "    for i in range(1,len(lst)):\n",
    "        left=i-1\n",
    "        right=i\n",
    "       \n",
    "        j=i-1\n",
    "        while j>=0 and lst[right]<lst[left]:\n",
    "           \n",
    "          \n",
    "           \n",
    "            lst[right]=lst[right]+lst[left]\n",
    "            lst[left]=lst[right]-lst[left]\n",
    "            lst[right]=lst[right]-lst[left]\n",
    "            right=left\n",
    "            left=right-1\n",
    "            \n",
    "            j-=1\n",
    "            \n",
    "            \n",
    "    return lst\n",
    "insertionSort([4,2,1,6])\n",
    "            \n",
    "            \n",
    "            \n",
    "            \n",
    "        \n",
    "        "
   ]
  },
  {
   "cell_type": "code",
   "execution_count": 13,
   "metadata": {},
   "outputs": [
    {
     "data": {
      "text/plain": [
       "[1, 2, 4, 6]"
      ]
     },
     "execution_count": 13,
     "metadata": {},
     "output_type": "execute_result"
    }
   ],
   "source": [
    "def selectionSort(lst):\n",
    "    \n",
    "    for i in range(len(lst)):\n",
    "        temp=i\n",
    "        for j in range(i,len(lst)):\n",
    "            if lst[j]<lst[i]:\n",
    "                temp=j\n",
    "        if temp!=i:\n",
    "            lst[temp]=lst[temp]+lst[i]\n",
    "            lst[i]=lst[temp]-lst[i]\n",
    "            lst[temp]=lst[temp]-lst[i]\n",
    "    return lst\n",
    "selectionSort([4,2,1,6])\n",
    "        \n",
    "            "
   ]
  },
  {
   "cell_type": "code",
   "execution_count": 35,
   "metadata": {},
   "outputs": [
    {
     "name": "stdout",
     "output_type": "stream",
     "text": [
      "[4] [2]\n",
      "[1] [6]\n",
      "[2, 4] [1, 6]\n"
     ]
    },
    {
     "data": {
      "text/plain": [
       "[1, 2, 4, 6]"
      ]
     },
     "execution_count": 35,
     "metadata": {},
     "output_type": "execute_result"
    }
   ],
   "source": [
    "def mergeSort(lst):\n",
    "    if len(lst)<=1:\n",
    "        return lst\n",
    "    \n",
    "    mid=len(lst)//2\n",
    "    \n",
    "    left=mergeSort(lst[:mid])\n",
    "    right=mergeSort(lst[mid:])\n",
    "    \n",
    "    return merge(left,right)\n",
    "    \n",
    "def merge(left,right):\n",
    "    leftPos=0\n",
    "    rightPos=0\n",
    "    mergedLst=[]\n",
    "    print(left,right)\n",
    "    while leftPos<=len(left)-1 and rightPos<=len(right)-1:\n",
    "        if left[leftPos]<=right[rightPos]:\n",
    "            mergedLst.append(left[leftPos])\n",
    "            leftPos+=1\n",
    "        else:\n",
    "            mergedLst.append(right[rightPos])\n",
    "            rightPos+=1\n",
    "    if leftPos<len(left):\n",
    "        for i in range(leftPos,len(left)):\n",
    "            mergedLst.append(left[i])\n",
    "    else:\n",
    "        for i in range(rightPos,len(left)):\n",
    "            mergedLst.append(right[i])\n",
    "    return mergedLst\n",
    "mergeSort([4,2,1,6])\n",
    "            "
   ]
  },
  {
   "cell_type": "code",
   "execution_count": 35,
   "metadata": {
    "scrolled": true
   },
   "outputs": [
    {
     "name": "stdout",
     "output_type": "stream",
     "text": [
      "[6, 4, 7, 3, 8] 1 4\n",
      "[6, 4, 3, 7, 8] 2 3\n",
      "[6, 4, 3, 7, 8] 3 2\n"
     ]
    },
    {
     "data": {
      "text/plain": [
       "[4, 3, 6, 7, 8]"
      ]
     },
     "execution_count": 35,
     "metadata": {},
     "output_type": "execute_result"
    }
   ],
   "source": [
    "def quickSort(lst):\n",
    "    if len(lst)<=1:\n",
    "        return lst\n",
    "    \n",
    "    pivot=0\n",
    "    right=len(lst)-1\n",
    "    left=1\n",
    "    \n",
    "    while (right >left):\n",
    "        \n",
    "        for i in range(left,len(lst),1):\n",
    "            if lst[0] < lst[i]:\n",
    "                left=i\n",
    "                break\n",
    "        for j in range(right,0,-1):\n",
    "            if lst[0]>lst[j]:\n",
    "                right=j\n",
    "                break\n",
    "        if left < right:        \n",
    "\n",
    "            temp=lst[left]\n",
    "            lst[left]=lst[right]\n",
    "            lst[right]=temp\n",
    "            \n",
    "        \n",
    "        print(lst,left,right)\n",
    "      \n",
    "    return quickSort(lst[1:left])+[lst[0]]+quickSort(lst[left:])\n",
    "quickSort([6,8,7,3,4])\n",
    "        \n",
    "            \n",
    "            \n",
    "            \n",
    "        \n",
    "         "
   ]
  },
  {
   "cell_type": "code",
   "execution_count": null,
   "metadata": {},
   "outputs": [],
   "source": []
  }
 ],
 "metadata": {
  "kernelspec": {
   "display_name": "Python 3",
   "language": "python",
   "name": "python3"
  },
  "language_info": {
   "codemirror_mode": {
    "name": "ipython",
    "version": 3
   },
   "file_extension": ".py",
   "mimetype": "text/x-python",
   "name": "python",
   "nbconvert_exporter": "python",
   "pygments_lexer": "ipython3",
   "version": "3.7.3"
  }
 },
 "nbformat": 4,
 "nbformat_minor": 2
}
