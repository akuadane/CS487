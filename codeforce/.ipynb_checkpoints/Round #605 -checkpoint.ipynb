{
 "cells": [
  {
   "cell_type": "code",
   "execution_count": 93,
   "metadata": {
    "scrolled": true
   },
   "outputs": [
    {
     "name": "stdout",
     "output_type": "stream",
     "text": [
      "3\n",
      "3 3 3\n",
      "100 100 1\n",
      "101 99 2\n",
      "3 3 3\n",
      "3 3 3\n",
      "1 100 100\n",
      "2 99 99\n",
      "2 99 101\n",
      "3 98 100\n",
      "0\n",
      "194\n",
      "194\n"
     ]
    }
   ],
   "source": [
    "n=eval(input())\n",
    "\n",
    "numbers=[]\n",
    "answers=[]\n",
    "for n in range(n):\n",
    "    numbers.append(input().split(\" \"))\n",
    "\n",
    "for i in numbers:\n",
    "    \n",
    "    least=0\n",
    "    maximum=2\n",
    "    \n",
    "    for j in range(len(i)):\n",
    "        \n",
    "        if int(i[j])<int(i[least]):\n",
    "            least=j\n",
    "        elif int(i[j])>int(i[maximum]):\n",
    "            maximum=j\n",
    "    middle=3-(maximum+least)\n",
    "    \n",
    "    a,b,c=int(i[least]),int(i[middle]),int(i[maximum])\n",
    "    \n",
    "    if b-a!=0:\n",
    "        a+=1\n",
    "        \n",
    "    if a-c!=0:\n",
    "        c-=1\n",
    "    \n",
    "    if b-a>c-b:\n",
    "        b-=1\n",
    "    if c-b>b-a:\n",
    "        b+=1\n",
    "    \n",
    "    \n",
    "   \n",
    "    total=abs(a-b)+abs(a-c)+abs(b-c)\n",
    "    \n",
    "    answers.append(total)\n",
    "\n",
    "for i in answers:\n",
    "    print(i)\n",
    "        \n",
    "    \n"
   ]
  },
  {
   "cell_type": "code",
   "execution_count": 88,
   "metadata": {},
   "outputs": [
    {
     "name": "stdout",
     "output_type": "stream",
     "text": [
      "1\n",
      "3 3 3\n",
      "2\n"
     ]
    }
   ],
   "source": []
  },
  {
   "cell_type": "markdown",
   "metadata": {},
   "source": []
  }
 ],
 "metadata": {
  "kernelspec": {
   "display_name": "Python 3",
   "language": "python",
   "name": "python3"
  },
  "language_info": {
   "codemirror_mode": {
    "name": "ipython",
    "version": 3
   },
   "file_extension": ".py",
   "mimetype": "text/x-python",
   "name": "python",
   "nbconvert_exporter": "python",
   "pygments_lexer": "ipython3",
   "version": "3.7.3"
  }
 },
 "nbformat": 4,
 "nbformat_minor": 2
}
