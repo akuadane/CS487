{
 "cells": [
  {
   "cell_type": "code",
   "execution_count": 12,
   "metadata": {},
   "outputs": [
    {
     "name": "stdout",
     "output_type": "stream",
     "text": [
      "2\n",
      "asdfasfasfadfadf\n",
      "asfasdfasfasdfadfasdfadfasdf\n",
      "-----\n"
     ]
    },
    {
     "ename": "TypeError",
     "evalue": "'type' object is not subscriptable",
     "output_type": "error",
     "traceback": [
      "\u001b[0;31m---------------------------------------------------------------------------\u001b[0m",
      "\u001b[0;31mTypeError\u001b[0m                                 Traceback (most recent call last)",
      "\u001b[0;32m<ipython-input-12-8304993df629>\u001b[0m in \u001b[0;36m<module>\u001b[0;34m\u001b[0m\n\u001b[1;32m      8\u001b[0m         \u001b[0mword\u001b[0m\u001b[0;34m=\u001b[0m\u001b[0mlis\u001b[0m\u001b[0;34m[\u001b[0m\u001b[0mi\u001b[0m\u001b[0;34m]\u001b[0m\u001b[0;34m\u001b[0m\u001b[0;34m\u001b[0m\u001b[0m\n\u001b[1;32m      9\u001b[0m \u001b[0;34m\u001b[0m\u001b[0m\n\u001b[0;32m---> 10\u001b[0;31m         \u001b[0mlis\u001b[0m\u001b[0;34m[\u001b[0m\u001b[0mi\u001b[0m\u001b[0;34m]\u001b[0m\u001b[0;34m=\u001b[0m\u001b[0mlis\u001b[0m\u001b[0;34m[\u001b[0m\u001b[0mi\u001b[0m\u001b[0;34m]\u001b[0m\u001b[0;34m[\u001b[0m\u001b[0;36m0\u001b[0m\u001b[0;34m]\u001b[0m \u001b[0;34m+\u001b[0m \u001b[0mlen\u001b[0m\u001b[0;34m(\u001b[0m\u001b[0mword\u001b[0m\u001b[0;34m[\u001b[0m\u001b[0;36m1\u001b[0m\u001b[0;34m:\u001b[0m\u001b[0mlen\u001b[0m\u001b[0;34m(\u001b[0m\u001b[0mlist\u001b[0m\u001b[0;34m[\u001b[0m\u001b[0mi\u001b[0m\u001b[0;34m]\u001b[0m\u001b[0;34m)\u001b[0m\u001b[0;34m-\u001b[0m\u001b[0;36m1\u001b[0m\u001b[0;34m]\u001b[0m\u001b[0;34m)\u001b[0m\u001b[0;34m+\u001b[0m \u001b[0mlis\u001b[0m\u001b[0;34m[\u001b[0m\u001b[0mi\u001b[0m\u001b[0;34m]\u001b[0m\u001b[0;34m[\u001b[0m\u001b[0;34m-\u001b[0m\u001b[0;36m1\u001b[0m\u001b[0;34m]\u001b[0m\u001b[0;34m\u001b[0m\u001b[0;34m\u001b[0m\u001b[0m\n\u001b[0m\u001b[1;32m     11\u001b[0m \u001b[0;34m\u001b[0m\u001b[0m\n\u001b[1;32m     12\u001b[0m \u001b[0;32mfor\u001b[0m \u001b[0mj\u001b[0m \u001b[0;32min\u001b[0m \u001b[0mlis\u001b[0m\u001b[0;34m:\u001b[0m\u001b[0;34m\u001b[0m\u001b[0;34m\u001b[0m\u001b[0m\n",
      "\u001b[0;31mTypeError\u001b[0m: 'type' object is not subscriptable"
     ]
    }
   ],
   "source": [
    "n=eval(input(\"\"))\n",
    "lis=[]\n",
    "for i in range(n):\n",
    "    lis.append(input())\n",
    "print(\"-----\")\n",
    "for i in range(len(lis)):\n",
    "    if len(lis[i])>10:\n",
    "        word=lis[i]\n",
    "       \n",
    "        lis[i]=lis[i][0] + len(word[1:len(list[i])-1])+ lis[i][-1]\n",
    "\n",
    "for j in lis:\n",
    "    print(j)\n",
    "                      \n",
    "          \n",
    "           "
   ]
  },
  {
   "cell_type": "code",
   "execution_count": 49,
   "metadata": {},
   "outputs": [
    {
     "name": "stdout",
     "output_type": "stream",
     "text": [
      "1\n",
      "?b\n",
      "None ? None \n",
      "___ a a b\n",
      "a b b a\n",
      "-1\n"
     ]
    }
   ],
   "source": [
    "n=eval(input(\"\"))\n",
    "inputs=[]\n",
    "answer=[]\n",
    "letters=['a','b','c','?']\n",
    "for i in range(n):\n",
    "    inputs.append(input())\n",
    "\n",
    "for i in range(len(inputs)):\n",
    "    word=inputs[i]\n",
    "    left=None\n",
    "    if len(word)>2:\n",
    "        right=word[1]\n",
    "    else:\n",
    "        right=None\n",
    "    theWord=\"\"\n",
    "    for j in range(len(word)):\n",
    "        \n",
    "        print(left,word[j],right,theWord)\n",
    "        \n",
    "        if (word[j]==left or word[j]==right) and (word[j]!='?' and right!='?' and left!=None ):\n",
    "            theWord=-1\n",
    "            break\n",
    "        \n",
    "        elif word[j]=='?':\n",
    "            if right in letters or right!=None:\n",
    "                letters.pop(letters.index(right))\n",
    "            \n",
    "            if left!=None:\n",
    "                letters.pop(letters.index(left))\n",
    "            \n",
    "            theWord+=letters[0]\n",
    "           \n",
    "            \n",
    "        elif word[j]!='?':\n",
    "            theWord+=word[j]\n",
    "        \n",
    "        left=theWord[-1]\n",
    "            \n",
    "        if j+1 < len(word):\n",
    "            \n",
    "            right=word[j+1]\n",
    "\n",
    "        letters=['a','b','c','?']\n",
    "        print(\"___\",left,theWord,right)\n",
    "    answer.append(theWord)\n",
    "            \n",
    "            \n",
    "            \n",
    "            \n",
    "                                            \n",
    "                                            \n",
    "\n",
    "\n",
    "\n",
    "for j in answer:\n",
    "    print(j)\n",
    "             "
   ]
  },
  {
   "cell_type": "code",
   "execution_count": 17,
   "metadata": {},
   "outputs": [
    {
     "data": {
      "text/plain": [
       "'b'"
      ]
     },
     "execution_count": 17,
     "metadata": {},
     "output_type": "execute_result"
    }
   ],
   "source": [
    "l=['a','b']\n",
    "l.pop(l.index('a'))\n",
    "l[0]"
   ]
  },
  {
   "cell_type": "code",
   "execution_count": 71,
   "metadata": {},
   "outputs": [
    {
     "name": "stdout",
     "output_type": "stream",
     "text": [
      "2\n",
      "a?b\n",
      "b?b\n",
      "acb\n",
      "bab\n"
     ]
    }
   ],
   "source": [
    "n=eval(input(\"\"))\n",
    "inputs=[]\n",
    "answer=[]\n",
    "letters=['a','b','c','?']\n",
    "for i in range(n):\n",
    "    inputs.append(input())\n",
    "\n",
    "for i in range(len(inputs)):\n",
    "    word=inputs[i]\n",
    "    \n",
    "    theWord=\"\"\n",
    "    for j in range(len(word)):\n",
    "        left=None\n",
    "        right=None\n",
    "        if word[j]=='?':\n",
    "            \n",
    "            if j!=0:\n",
    "                \n",
    "                left=theWord[-1]\n",
    "            \n",
    "            if j+1<len(word):\n",
    "                right=word[j+1]\n",
    "                \n",
    "            if left!=None:\n",
    "                letters.pop(letters.index(left))\n",
    "            if right!=None and left!=right:\n",
    "                \n",
    "                letters.pop(letters.index(right))\n",
    "                \n",
    "            theWord+=letters[0]\n",
    "        \n",
    "        else:\n",
    "            theWord+=word[j]\n",
    "            if j!=0:\n",
    "                left=theWord[j-1]\n",
    "            \n",
    "            if j+1<len(word):\n",
    "                right=word[j+1]\n",
    "            \n",
    "            if word[j]==left or word[j]==right:\n",
    "                theWord=-1\n",
    "                break\n",
    "        \n",
    "        letters=['a','b','c','?']\n",
    "    answer.append(theWord)\n",
    "         \n",
    "            \n",
    "            \n",
    "\n",
    "\n",
    "for j in answer:\n",
    "    print(j)\n",
    "             "
   ]
  },
  {
   "cell_type": "code",
   "execution_count": 69,
   "metadata": {},
   "outputs": [
    {
     "data": {
      "text/plain": [
       "['1', '2', '33', '']"
      ]
     },
     "execution_count": 69,
     "metadata": {},
     "output_type": "execute_result"
    }
   ],
   "source": []
  },
  {
   "cell_type": "code",
   "execution_count": null,
   "metadata": {},
   "outputs": [],
   "source": [
    "n=eval(input())\n",
    "inputs=[]\n",
    "answer=[]\n",
    "\n",
    "for i in n:\n",
    "    g=eval(input())\n",
    "    inputs.append(input().split())\n",
    "    \n",
    "for i in range(len(inputs)):\n",
    "    forEach=\"\"\n",
    "    for j in range(len(inputs[i])):\n",
    "        \n",
    "        counter=1\n",
    "        number=int(inputs[j])\n",
    "        l=int(inputs[i][0])\n",
    "        r=int(inputs[i][0])\n",
    "        cond=0\n",
    "        while l<=j:\n",
    "            \n",
    "            if counter==number:\n",
    "                cond=1\n",
    "                break\n",
    "            if l<= number and r<=number:\n",
    "                counter+=1\n",
    "                \n",
    "            \n",
    "            \n",
    "        \n",
    "        forEach+=cond\n",
    "    answer.append(forEach)\n",
    "            \n",
    "           \n",
    "            \n",
    "            \n",
    "            \n",
    "        "
   ]
  }
 ],
 "metadata": {
  "kernelspec": {
   "display_name": "Python 3",
   "language": "python",
   "name": "python3"
  },
  "language_info": {
   "codemirror_mode": {
    "name": "ipython",
    "version": 3
   },
   "file_extension": ".py",
   "mimetype": "text/x-python",
   "name": "python",
   "nbconvert_exporter": "python",
   "pygments_lexer": "ipython3",
   "version": "3.7.3"
  }
 },
 "nbformat": 4,
 "nbformat_minor": 2
}
