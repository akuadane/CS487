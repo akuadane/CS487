{
 "cells": [
  {
   "cell_type": "code",
   "execution_count": 1,
   "metadata": {},
   "outputs": [
    {
     "data": {
      "text/plain": [
       "9646324351"
      ]
     },
     "execution_count": 1,
     "metadata": {},
     "output_type": "execute_result"
    }
   ],
   "source": [
    "def reverse( num) :\n",
    "    new=0\n",
    "    counter=0\n",
    "    sign= 1 if num>0 else -1\n",
    "\n",
    "    num=abs(num)\n",
    "    while num!=0:\n",
    "\n",
    "        new=new*10+num%10\n",
    "        num//=10\n",
    "        counter+=1\n",
    "    return new*sign\n",
    "reverse(1534236469)"
   ]
  },
  {
   "cell_type": "code",
   "execution_count": 7,
   "metadata": {},
   "outputs": [
    {
     "data": {
      "text/plain": [
       "[2, 1]"
      ]
     },
     "execution_count": 7,
     "metadata": {},
     "output_type": "execute_result"
    }
   ],
   "source": [
    "def oddSort(lst):\n",
    "    odd=1\n",
    "    even=0\n",
    "    ans=[i for i in range(len(lst))]\n",
    "    for i in range(len(lst)):\n",
    "        if lst[i]%2==0:\n",
    "            ans[even]=lst[i]\n",
    "            even+=2\n",
    "            \n",
    "        else: \n",
    "            ans[odd]=lst[i]\n",
    "            odd+=2\n",
    "    return ans\n",
    "oddSort([1,2])"
   ]
  },
  {
   "cell_type": "code",
   "execution_count": 23,
   "metadata": {},
   "outputs": [
    {
     "data": {
      "text/plain": [
       "[0, 3, 3, 9, 1, 2, 2, 2, 2]"
      ]
     },
     "execution_count": 23,
     "metadata": {},
     "output_type": "execute_result"
    }
   ],
   "source": [
    " def relativeSortArray(arr1, arr2):\n",
    "        sortedList=[0 for i in range(max(arr1)+1)]\n",
    "        ans=[]\n",
    "        for i in arr1:\n",
    "            sortedList[i]+=1\n",
    "        \n",
    "        for j in arr2:\n",
    "            \n",
    "            for k in range(sortedList[j]):\n",
    "                ans.append(j)\n",
    "                sortedList[j]-=1\n",
    "        \n",
    "        for i in range(len(sortedList)):\n",
    "            for k in range(sortedList[i]):\n",
    "                ans.append(i)\n",
    "        return ans\n",
    "                \n",
    "    \n",
    "relativeSortArray([2,2,2,1,0,2,9,3,3],[0,3,9,1])\n",
    "                \n",
    "        "
   ]
  },
  {
   "cell_type": "code",
   "execution_count": 46,
   "metadata": {},
   "outputs": [
    {
     "name": "stdout",
     "output_type": "stream",
     "text": [
      "[1, 0, 2, 1] 1\n",
      "[1, 2, 1] 0\n",
      "[2, 1] 1\n",
      "[2] 0\n"
     ]
    },
    {
     "data": {
      "text/plain": [
       "[[0, 1], [0, 0], [1, 1], [1, 0]]"
      ]
     },
     "execution_count": 46,
     "metadata": {},
     "output_type": "execute_result"
    }
   ],
   "source": [
    "def short(R, C, r0, c0):\n",
    "    points=[]\n",
    "    ans=[]\n",
    "    for i in range(R):\n",
    "        for j in range(C):\n",
    "            points.append([i,j])\n",
    "  \n",
    "    distance=[0 for i in range(len(points))]\n",
    "    \n",
    "    for point in range(len(points)):\n",
    "        \n",
    "        distance[point]=abs(points[point][0]-r0)+abs(points[point][1]-c0)\n",
    "    \n",
    "    \n",
    "    for i in range(len(distance)):\n",
    "        minIndex=0\n",
    "        for j in range(len(distance)):\n",
    "            if distance[j] <distance[minIndex]:\n",
    "                minIndex=j\n",
    "       \n",
    "        ans.append(points[minIndex])\n",
    "        distance.pop(minIndex)\n",
    "        points.pop(minIndex)\n",
    "    return ans\n",
    "    \n",
    "    \n",
    "short(2,2,0,1)"
   ]
  },
  {
   "cell_type": "code",
   "execution_count": 62,
   "metadata": {},
   "outputs": [
    {
     "data": {
      "text/plain": [
       "[[1, 2], [0, 2], [1, 1], [0, 1], [1, 0], [0, 0]]"
      ]
     },
     "execution_count": 62,
     "metadata": {},
     "output_type": "execute_result"
    }
   ],
   "source": [
    "def shortBetter(R, C, r0, c0):\n",
    "    shortPoints=[[r0,c0]]\n",
    "    pointer=1\n",
    "    \n",
    "    while pointer<R*C:\n",
    "        \n",
    "        for i in shortPoints:\n",
    "            \n",
    "            if (i[0]-1>=0 and [i[0]-1,i[1]] not in shortPoints):\n",
    "                shortPoints.append([i[0]-1,i[1]])\n",
    "                pointer+=1\n",
    "            if (i[0]+1<R and [i[0]+1,i[1]] not in shortPoints):\n",
    "                shortPoints.append([i[0]+1,i[1]])\n",
    "                pointer+=1\n",
    "            if (i[1]-1>=0 and [i[0],i[1]-1] not in shortPoints):\n",
    "                shortPoints.append([i[0],i[1]-1])\n",
    "                pointer+=1\n",
    "            if (i[1]+1<C and [i[0],i[1]+1] not in shortPoints):\n",
    "                shortPoints.append([i[0],i[1]+1])\n",
    "                pointer+=1\n",
    "    return shortPoints\n",
    "                \n",
    "        \n",
    "shortBetter(2,3,1,2)      \n",
    "    "
   ]
  },
  {
   "cell_type": "code",
   "execution_count": 65,
   "metadata": {},
   "outputs": [
    {
     "data": {
      "text/plain": [
       "[2]"
      ]
     },
     "execution_count": 65,
     "metadata": {},
     "output_type": "execute_result"
    }
   ],
   "source": [
    "def intersectTwo(nums1,nums2):\n",
    "    map1={}\n",
    "    map2={}\n",
    "    ans=[]\n",
    "    for i in nums1:\n",
    "        if i not in map1:\n",
    "            map1[i]=0\n",
    "            \n",
    "    for k in nums2:\n",
    "        if k not in map2:\n",
    "            map2[k]=0\n",
    "    \n",
    "    for j in map2:\n",
    "        if j in map1:\n",
    "            ans.append(j)\n",
    "    return ans\n",
    "\n",
    "intersectTwo([1,2,2,1], [2,2])\n",
    "    "
   ]
  },
  {
   "cell_type": "code",
   "execution_count": 4,
   "metadata": {},
   "outputs": [
    {
     "data": {
      "text/plain": [
       "True"
      ]
     },
     "execution_count": 4,
     "metadata": {},
     "output_type": "execute_result"
    }
   ],
   "source": [
    "def anagram(s,t):\n",
    "    if len(s)==len(t):\n",
    "        mapS={}\n",
    "        mapT={}\n",
    "        \n",
    "        for i in s:\n",
    "            if i not in mapS:\n",
    "                mapS[i]=0\n",
    "            mapS[i]+=1\n",
    "        \n",
    "        for j in t:\n",
    "            if j not in mapT:\n",
    "                mapT[j]=0\n",
    "            mapT[j]+=1\n",
    "        \n",
    "        for k in mapT:\n",
    "           \n",
    "            if k not in mapS:\n",
    "                return False\n",
    "            elif mapS[k]!=mapT[k]:\n",
    "                return False\n",
    "           \n",
    "    \n",
    "    else:\n",
    "        return False\n",
    "    return True\n",
    "anagram(\"aaca\",\"caaa\")"
   ]
  },
  {
   "cell_type": "code",
   "execution_count": 33,
   "metadata": {},
   "outputs": [
    {
     "data": {
      "text/plain": [
       "8"
      ]
     },
     "execution_count": 33,
     "metadata": {},
     "output_type": "execute_result"
    }
   ],
   "source": [
    "def largestPerimeter(A):\n",
    "    \n",
    "    A.sort()\n",
    "    \n",
    "    \n",
    "    for i in range(len(A)-1,1,-1):\n",
    "        \n",
    "        total=(A[i]+A[i-1]+A[i-2])\n",
    "        maxNum=max(A[i],A[i-1],A[i-2])\n",
    "\n",
    "        if total-maxNum>maxNum:\n",
    "            return total\n",
    "    return 0\n",
    "largestPerimeter([3,6,2,3])\n",
    "    "
   ]
  },
  {
   "cell_type": "code",
   "execution_count": 50,
   "metadata": {
    "scrolled": true
   },
   "outputs": [
    {
     "data": {
      "text/plain": [
       "[3, 4, 2, 3, 1, 2]"
      ]
     },
     "execution_count": 50,
     "metadata": {},
     "output_type": "execute_result"
    }
   ],
   "source": [
    "def pancake(A):\n",
    "    ans=[]\n",
    "    for i in range(0,len(A)-1):\n",
    "        \n",
    "        maxIndex=0\n",
    "        for j in range(len(A)-i):\n",
    "            if A[j]>A[maxIndex]:\n",
    "                maxIndex=j\n",
    "                \n",
    "        if maxIndex != A[maxIndex]-1:\n",
    "            ans.append(maxIndex+1)\n",
    "            \n",
    "            A=flip(A,maxIndex)\n",
    "            \n",
    "            ans.append(A[0])\n",
    "            A=flip(A,A[0]-1)\n",
    "            \n",
    "\n",
    "            \n",
    "            \n",
    "            \n",
    "            \n",
    "    return ans\n",
    "\n",
    "def flip(A,maxIndex):\n",
    "    for k in range((maxIndex+1)//2):\n",
    "        temp=A[k]\n",
    "        A[k]=A[maxIndex-k]\n",
    "        A[maxIndex-k]=temp\n",
    "        \n",
    "\n",
    "    return A\n",
    "\n",
    "pancake([3,2,4,1])\n",
    "                \n",
    "                \n",
    "        "
   ]
  },
  {
   "cell_type": "code",
   "execution_count": null,
   "metadata": {},
   "outputs": [],
   "source": []
  }
 ],
 "metadata": {
  "kernelspec": {
   "display_name": "Python 3",
   "language": "python",
   "name": "python3"
  },
  "language_info": {
   "codemirror_mode": {
    "name": "ipython",
    "version": 3
   },
   "file_extension": ".py",
   "mimetype": "text/x-python",
   "name": "python",
   "nbconvert_exporter": "python",
   "pygments_lexer": "ipython3",
   "version": "3.7.3"
  }
 },
 "nbformat": 4,
 "nbformat_minor": 2
}
