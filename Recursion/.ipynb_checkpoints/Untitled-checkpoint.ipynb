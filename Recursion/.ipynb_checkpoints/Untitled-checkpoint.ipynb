{
 "cells": [
  {
   "cell_type": "markdown",
   "metadata": {},
   "source": [
    "# 1137. N-th Tribonacci Number\n",
    "The Tribonacci sequence Tn is defined as follows: \n",
    "\n",
    "T0 = 0, T1 = 1, T2 = 1, and Tn+3 = Tn + Tn+1 + Tn+2 for n >= 0.\n",
    "\n",
    "Given n, return the value of Tn."
   ]
  },
  {
   "cell_type": "code",
   "execution_count": 1,
   "metadata": {},
   "outputs": [
    {
     "data": {
      "text/plain": [
       "1389537"
      ]
     },
     "execution_count": 1,
     "metadata": {},
     "output_type": "execute_result"
    }
   ],
   "source": [
    " def tribonacci(n):\n",
    "        if n==2:\n",
    "            return 1\n",
    "        if n<=1:\n",
    "            return n\n",
    "        \n",
    "        return tribonacci(n-1)+tribonacci(n-2)+tribonacci(n-3)\n",
    "\n",
    "def getValues(n,m):\n",
    "    if n==2:\n",
    "        return 1\n",
    "    if n<=1:\n",
    "        return n\n",
    "\n",
    "    if m[n]!=None:\n",
    "        return m[n]\n",
    "\n",
    "    answer= tribonacci(n-1)+tribonacci(n-2)+tribonacci(n-3)\n",
    "\n",
    "    m[n]=answer\n",
    "\n",
    "    return answer\n",
    "tribonacci(25)   "
   ]
  },
  {
   "cell_type": "code",
   "execution_count": null,
   "metadata": {},
   "outputs": [],
   "source": []
  }
 ],
 "metadata": {
  "kernelspec": {
   "display_name": "Python 3",
   "language": "python",
   "name": "python3"
  },
  "language_info": {
   "codemirror_mode": {
    "name": "ipython",
    "version": 3
   },
   "file_extension": ".py",
   "mimetype": "text/x-python",
   "name": "python",
   "nbconvert_exporter": "python",
   "pygments_lexer": "ipython3",
   "version": "3.7.3"
  }
 },
 "nbformat": 4,
 "nbformat_minor": 2
}
